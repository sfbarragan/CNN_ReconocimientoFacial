{
 "cells": [
  {
   "cell_type": "markdown",
   "id": "d676e01a",
   "metadata": {},
   "source": [
    "<center><h1>Inteligencia Artificial</header1></center>"
   ]
  },
  {
   "cell_type": "markdown",
   "id": "a8223950",
   "metadata": {},
   "source": [
    "Presentado por: Melany López, Steven Barragan\n",
    "\n",
    "Fecha: 13/08/2022"
   ]
  },
  {
   "cell_type": "markdown",
   "id": "d2c5ba4b",
   "metadata": {},
   "source": [
    "## Importación de librerias necesarias"
   ]
  },
  {
   "cell_type": "code",
   "execution_count": 1,
   "id": "4ecb311f",
   "metadata": {},
   "outputs": [],
   "source": [
    "#Importamos las librerías correspondientes\n",
    "# Importamos la librería ImageDataGenerator,\n",
    "from keras.preprocessing.image import ImageDataGenerator\n",
    "# Importamos la librería  array_to_img, img_to_array, load_img\n",
    "from tensorflow.keras.utils import array_to_img, img_to_array, load_img\n",
    "# Importamos la librería glob\n",
    "import glob\n",
    "# Importamos la libreria numpy\n",
    "import numpy as np\n",
    "# Importamos la librería plt\n",
    "import matplotlib.pyplot as plt\n",
    "# Importamos la librería os\n",
    "import os\n",
    "# Configuramos el ambiente\n",
    "os.environ['TF_CPP_MIN_LOG_LEVEL'] = '3'\n",
    "#Importamos la libreria shutil\n",
    "import shutil\n",
    "#Importamos la libreria random\n",
    "import random\n",
    "# Importamos la librería io \n",
    "from skimage import io\n",
    "# Importamos open cv\n",
    "import cv2\n",
    "# Importamos remove de la libreria rembg\n",
    "from rembg import remove\n",
    "# Importamos Image de la libreria PIL\n",
    "from PIL import Image\n",
    "# Importamos train_test_split de la libreria sklearn\n",
    "from sklearn.model_selection import train_test_split\n",
    "# Importamos keras de la libreria tensorflow\n",
    "from tensorflow import keras\n",
    "# Importamos Sequential de la libreria keras\n",
    "from keras.models import Sequential\n",
    "# Importamos Conv2D,MaxPooling2D,Dense,Flatten,Dropout de la libreria keras\n",
    "from keras.layers import Conv2D,MaxPooling2D,Dense,Flatten,Dropout\n",
    "# Importamos BatchNormalization de la libreria tensorflow\n",
    "from tensorflow.keras.layers import BatchNormalization\n",
    "# Importamos la libreria tensorflow\n",
    "import tensorflow as tf\n",
    "# Importamos la libreria visualkeras\n",
    "import visualkeras\n",
    "# Importamos early stopping\n",
    "from keras.callbacks import EarlyStopping"
   ]
  },
  {
   "cell_type": "markdown",
   "id": "4d13b992",
   "metadata": {},
   "source": [
    "## Descripción del dataset\n",
    "\n",
    "El presente dataset incorpora fotos de los estudiantes de sexto semestre de la carrera de Ingenieria en tecnologias de la información, cuyo objetivo es la aplicación de las mismas para realizar un reconocimiento facial identificando el nombre de cada uno de los participantes.\n",
    "\n",
    "Dentro del conjunto de imagenes podemos identificar que se centran en el uso de los formatos jpg, png, jpeg. El esquema de colores utilizado por las imagenes es RGB. Sus dimenciones preestablecidas se encuentran en 5 x 5 cm, siendo imagenes que enfocan los 3 diferentes perfiles del rostro de una persona.\n",
    "\n",
    "Las clases objetivo con las que dispone el dataset son las siguientes:\n",
    "'Ariel Chabla', 'ArroboMercy', 'BarraganSteven', 'CevallosJoan', 'EnriquezSelena', 'GenesisHeredia', 'GoyesAnthony', 'HectorCedeño', 'JhonZambrano', 'JordanEspinosa', 'JorgeBorrero', 'JoseRuiz', 'LeonardoBorja', 'LucioCarlos', 'MasacheFernando', 'MelanyLopez', 'MosqueraLucy', 'NatalyAcosta', 'OlallaLuis', 'ParragaMariaJose', 'PauteKevin', 'RaymondDavila', 'RivasSelena', 'SalazarJohana', 'SolanoWilmer', 'SolorzanoBryan'"
   ]
  },
  {
   "cell_type": "markdown",
   "id": "e494804e",
   "metadata": {},
   "source": [
    "## Descripción del problema\n",
    "Este dataset contiene varios parámetros/características en donde se requiere realizar un reconocimiento facial de una persona por medio de la predicción basada en imágenes. Cabe mencionar que por cada persona se extrajo un total de tres imagenes de los perfiles del rostro, para el respectivo entrenamiento del modelo que consta del lado frontal, lado derecho y lado izquierdo del rostro de la persona."
   ]
  },
  {
   "cell_type": "markdown",
   "id": "ae038c2d",
   "metadata": {},
   "source": [
    "## Carga del dataset"
   ]
  },
  {
   "cell_type": "code",
   "execution_count": 4,
   "id": "0544e417",
   "metadata": {},
   "outputs": [],
   "source": [
    "# Definimos la ruta del dataset\n",
    "folder = 'C:\\IAU3/PROYECTOIA-U3/'"
   ]
  },
  {
   "cell_type": "code",
   "execution_count": 5,
   "id": "0aeba0e2",
   "metadata": {},
   "outputs": [
    {
     "name": "stdout",
     "output_type": "stream",
     "text": [
      "['Ariel Chabla', 'ArroboMercy', 'BarraganSteven', 'CevallosJoan', 'EnriquezSelena', 'GenesisHeredia', 'GoyesAnthony', 'HectorCedenio', 'Jhon Zambrano', 'Jordan Espinosa', 'Jorge Borrero', 'JoseRuiz', 'LucioCarlos', 'MasacheFernando', 'MelanyLopez', 'MosqueraLucy', 'Nataly Acosta', 'OlallaLuis', 'ParragaMariaJose', 'PauteKevin', 'Raymond Davila', 'RivasSelena', 'SalazarJohana', 'Solano Wilmer', 'SolorzanoBryan', 'VinicioBorja']\n"
     ]
    }
   ],
   "source": [
    "#Se observa los nombres de las carpetas\n",
    "nombres = os.listdir(folder)\n",
    "# Imprimimos los nombres\n",
    "print(nombres)"
   ]
  },
  {
   "cell_type": "code",
   "execution_count": null,
   "id": "dcc0b3ab",
   "metadata": {},
   "outputs": [],
   "source": []
  }
 ],
 "metadata": {
  "kernelspec": {
   "display_name": "Python 3 (ipykernel)",
   "language": "python",
   "name": "python3"
  },
  "language_info": {
   "codemirror_mode": {
    "name": "ipython",
    "version": 3
   },
   "file_extension": ".py",
   "mimetype": "text/x-python",
   "name": "python",
   "nbconvert_exporter": "python",
   "pygments_lexer": "ipython3",
   "version": "3.9.7"
  }
 },
 "nbformat": 4,
 "nbformat_minor": 5
}
