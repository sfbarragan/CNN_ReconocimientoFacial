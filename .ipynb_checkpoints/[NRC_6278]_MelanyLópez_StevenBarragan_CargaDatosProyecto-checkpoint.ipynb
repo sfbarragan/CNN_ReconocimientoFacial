{
 "cells": [
  {
   "cell_type": "code",
   "execution_count": 32,
   "id": "2a77928d",
   "metadata": {},
   "outputs": [
    {
     "ename": "ImportError",
     "evalue": "cannot import name 'array_to_img' from 'keras.preprocessing.image' (C:\\ProgramData\\Anaconda3\\lib\\site-packages\\keras\\preprocessing\\image.py)",
     "output_type": "error",
     "traceback": [
      "\u001b[1;31m---------------------------------------------------------------------------\u001b[0m",
      "\u001b[1;31mImportError\u001b[0m                               Traceback (most recent call last)",
      "\u001b[1;32m~\\AppData\\Local\\Temp/ipykernel_14448/1108667377.py\u001b[0m in \u001b[0;36m<module>\u001b[1;34m\u001b[0m\n\u001b[0;32m      1\u001b[0m \u001b[1;31m#Importamos las librerías correspondientes\u001b[0m\u001b[1;33m\u001b[0m\u001b[1;33m\u001b[0m\u001b[0m\n\u001b[0;32m      2\u001b[0m \u001b[1;31m# Importamos la librería ImageDataGenerator, array_to_img, img_to_array, load_img\u001b[0m\u001b[1;33m\u001b[0m\u001b[1;33m\u001b[0m\u001b[0m\n\u001b[1;32m----> 3\u001b[1;33m \u001b[1;32mfrom\u001b[0m \u001b[0mkeras\u001b[0m\u001b[1;33m.\u001b[0m\u001b[0mpreprocessing\u001b[0m\u001b[1;33m.\u001b[0m\u001b[0mimage\u001b[0m \u001b[1;32mimport\u001b[0m \u001b[0mImageDataGenerator\u001b[0m\u001b[1;33m,\u001b[0m \u001b[0marray_to_img\u001b[0m\u001b[1;33m,\u001b[0m \u001b[0mimg_to_array\u001b[0m\u001b[1;33m,\u001b[0m \u001b[0mload_img\u001b[0m\u001b[1;33m\u001b[0m\u001b[1;33m\u001b[0m\u001b[0m\n\u001b[0m\u001b[0;32m      4\u001b[0m \u001b[1;31m# Importamos la librería glob\u001b[0m\u001b[1;33m\u001b[0m\u001b[1;33m\u001b[0m\u001b[0m\n\u001b[0;32m      5\u001b[0m \u001b[1;32mimport\u001b[0m \u001b[0mglob\u001b[0m\u001b[1;33m\u001b[0m\u001b[1;33m\u001b[0m\u001b[0m\n",
      "\u001b[1;31mImportError\u001b[0m: cannot import name 'array_to_img' from 'keras.preprocessing.image' (C:\\ProgramData\\Anaconda3\\lib\\site-packages\\keras\\preprocessing\\image.py)"
     ]
    }
   ],
   "source": [
    "#Importamos las librerías correspondientes\n",
    "# Importamos la librería ImageDataGenerator, array_to_img, img_to_array, load_img\n",
    "from keras.preprocessing.image import ImageDataGenerator, img_to_array, load_img\n",
    "from tensorflow.keras.utils import array_to_img\n",
    "# Importamos la librería glob\n",
    "import glob\n",
    "# Importamos la librería OpenCV\n",
    "import cv2\n",
    "# Importamos la librería plt\n",
    "import matplotlib.pyplot as plt\n",
    "# Importamos la librería os\n",
    "import os\n",
    "#Importamos la libreria shutil\n",
    "import shutil\n"
   ]
  },
  {
   "cell_type": "code",
   "execution_count": 17,
   "id": "f71681ee",
   "metadata": {},
   "outputs": [],
   "source": [
    "folder = 'C:\\PROYECTOIA-U3/'"
   ]
  },
  {
   "cell_type": "code",
   "execution_count": 18,
   "id": "64e4306d",
   "metadata": {},
   "outputs": [],
   "source": [
    "ext = ['png', 'jpg', 'gif','jpeg']    # Add image formats here\n",
    "files = []\n",
    "[files.extend(glob.glob(folder + '*.' + e)) for e in ext]\n",
    "images = [cv2.imread(file) for file in files]"
   ]
  },
  {
   "cell_type": "code",
   "execution_count": 19,
   "id": "6857fe21",
   "metadata": {},
   "outputs": [
    {
     "name": "stdout",
     "output_type": "stream",
     "text": [
      "['Ariel Chabla', 'ArroboMercy', 'BarraganSteven', 'CevallosJoan', 'EnriquezSelena', 'GenesisHeredia', 'GoyesAnthony', 'Hector Cedeño', 'Jhon Zambrano', 'Jordan Espinosa', 'Jorge Borrero', 'JoseRuiz', 'LeonardoBorja', 'LucioCarlos', 'MasacheFernando', 'MelanyLópez', 'MosqueraLucy', 'Nataly Acosta', 'OlallaLuis', 'PauteKevin', 'PárragaMaríaJosé', 'Raymond Dávila', 'RivasSelena', 'SalazarJohana', 'Solano Wilmer', 'SolórzanoBryan']\n"
     ]
    }
   ],
   "source": [
    "#Se observa los nombres de las columasn\n",
    "nombres = os.listdir(folder)\n",
    "print(nombres)"
   ]
  },
  {
   "cell_type": "code",
   "execution_count": 29,
   "id": "f4cda4ac",
   "metadata": {
    "scrolled": true
   },
   "outputs": [
    {
     "name": "stdout",
     "output_type": "stream",
     "text": [
      "Copying Image - L00376418_1.jpg in Fotos_Augmented_1/Ariel Chabla\n",
      "Copying Image - L00376418_2.jpg in Fotos_Augmented_1/Ariel Chabla\n",
      "Copying Image - L00376418_3.jpg in Fotos_Augmented_1/Ariel Chabla\n",
      "Copying Image - L00385770_1.png in Fotos_Augmented_1/ArroboMercy\n",
      "Copying Image - L00385770_2.png in Fotos_Augmented_1/ArroboMercy\n",
      "Copying Image - L00385770_3.png in Fotos_Augmented_1/ArroboMercy\n",
      "Copying Image - L00392978_1.png in Fotos_Augmented_1/BarraganSteven\n",
      "Copying Image - L00392978_2.png in Fotos_Augmented_1/BarraganSteven\n",
      "Copying Image - L00392978_3.png in Fotos_Augmented_1/BarraganSteven\n",
      "Copying Image - L00376416_1.jpg in Fotos_Augmented_1/CevallosJoan\n",
      "Copying Image - L00376416_2.jpg in Fotos_Augmented_1/CevallosJoan\n",
      "Copying Image - L00376416_3.jpg in Fotos_Augmented_1/CevallosJoan\n",
      "Copying Image - L00376481_1.jpg in Fotos_Augmented_1/EnriquezSelena\n",
      "Copying Image - L00376481_2_.jpg in Fotos_Augmented_1/EnriquezSelena\n",
      "Copying Image - L00376481_3.jpg in Fotos_Augmented_1/EnriquezSelena\n",
      "Copying Image - L00392991_1.png in Fotos_Augmented_1/GenesisHeredia\n",
      "Copying Image - L00392991_2.png in Fotos_Augmented_1/GenesisHeredia\n",
      "Copying Image - L00392991_3.png in Fotos_Augmented_1/GenesisHeredia\n",
      "Copying Image - L00393010_1.jpeg in Fotos_Augmented_1/GoyesAnthony\n",
      "Copying Image - L00393010_2.jpeg in Fotos_Augmented_1/GoyesAnthony\n",
      "Copying Image - L00393010_3.jpeg in Fotos_Augmented_1/GoyesAnthony\n",
      "Copying Image - L00392989_1.jpg in Fotos_Augmented_1/Hector Cedeño\n",
      "Copying Image - L00392989_2.jpg in Fotos_Augmented_1/Hector Cedeño\n",
      "Copying Image - L00392989_3.jpg in Fotos_Augmented_1/Hector Cedeño\n",
      "Copying Image - L00392993_Centro.png in Fotos_Augmented_1/Jhon Zambrano\n",
      "Copying Image - L00392993_LD.png in Fotos_Augmented_1/Jhon Zambrano\n",
      "Copying Image - L00392993_LI.png in Fotos_Augmented_1/Jhon Zambrano\n",
      "Copying Image - L00080128_1 Frente.png in Fotos_Augmented_1/Jordan Espinosa\n",
      "Copying Image - L00080128_2 Derecho.png in Fotos_Augmented_1/Jordan Espinosa\n",
      "Copying Image - L00080128_3 Izquierda.png in Fotos_Augmented_1/Jordan Espinosa\n",
      "Copying Image - L00379412_1.jpeg in Fotos_Augmented_1/Jorge Borrero\n",
      "Copying Image - L00379412_2.jpeg in Fotos_Augmented_1/Jorge Borrero\n",
      "Copying Image - L00379412_3.jpeg in Fotos_Augmented_1/Jorge Borrero\n",
      "Copying Image - L00380361_1.jpg in Fotos_Augmented_1/JoseRuiz\n",
      "Copying Image - L00380361_2.jpg in Fotos_Augmented_1/JoseRuiz\n",
      "Copying Image - L00380361_3.jpg in Fotos_Augmented_1/JoseRuiz\n",
      "Copying Image - L00393007_1.png in Fotos_Augmented_1/LeonardoBorja\n",
      "Copying Image - L00393007_2.png in Fotos_Augmented_1/LeonardoBorja\n",
      "Copying Image - L00393007_3.png in Fotos_Augmented_1/LeonardoBorja\n",
      "Copying Image - L00393009_1.png in Fotos_Augmented_1/LucioCarlos\n",
      "Copying Image - L00393009_2.png in Fotos_Augmented_1/LucioCarlos\n",
      "Copying Image - L00393009_3.png in Fotos_Augmented_1/LucioCarlos\n",
      "Copying Image - 20220803_110911.jpg in Fotos_Augmented_1/MasacheFernando\n",
      "Copying Image - 20220803_110958.jpg in Fotos_Augmented_1/MasacheFernando\n",
      "Copying Image - 20220803_111006.jpg in Fotos_Augmented_1/MasacheFernando\n",
      "Copying Image - L00392999_1.jpeg in Fotos_Augmented_1/MelanyLópez\n",
      "Copying Image - L00392999_2.jpeg in Fotos_Augmented_1/MelanyLópez\n",
      "Copying Image - L00392999_3.jpeg in Fotos_Augmented_1/MelanyLópez\n",
      "Copying Image - L00073392_1.jpg in Fotos_Augmented_1/MosqueraLucy\n",
      "Copying Image - L00073392_2.jpg in Fotos_Augmented_1/MosqueraLucy\n",
      "Copying Image - L00073392_3.jpg in Fotos_Augmented_1/MosqueraLucy\n",
      "Copying Image - L00380424_1.jpg in Fotos_Augmented_1/Nataly Acosta\n",
      "Copying Image - L00380424_2.jpg in Fotos_Augmented_1/Nataly Acosta\n",
      "Copying Image - L00380424_3.jpg in Fotos_Augmented_1/Nataly Acosta\n",
      "Copying Image - L00393001_1.jpg in Fotos_Augmented_1/OlallaLuis\n",
      "Copying Image - L00393001_2.jpg in Fotos_Augmented_1/OlallaLuis\n",
      "Copying Image - L00393001_3.jpg in Fotos_Augmented_1/OlallaLuis\n",
      "Copying Image - L00080134_1.jpg in Fotos_Augmented_1/PauteKevin\n",
      "Copying Image - L00080134_2.jpg in Fotos_Augmented_1/PauteKevin\n",
      "Copying Image - L00080134_3.jpg in Fotos_Augmented_1/PauteKevin\n",
      "Copying Image - L00392984_1.png in Fotos_Augmented_1/PárragaMaríaJosé\n",
      "Copying Image - L00392984_2.png in Fotos_Augmented_1/PárragaMaríaJosé\n",
      "Copying Image - L00392984_3.png in Fotos_Augmented_1/PárragaMaríaJosé\n",
      "Copying Image - L00080957_1.jpg in Fotos_Augmented_1/Raymond Dávila\n",
      "Copying Image - L00080957_2.jpg in Fotos_Augmented_1/Raymond Dávila\n",
      "Copying Image - L00080957_3.jpg in Fotos_Augmented_1/Raymond Dávila\n",
      "Copying Image - L00376689_1.jpg in Fotos_Augmented_1/RivasSelena\n",
      "Copying Image - L00376689_2.jpg in Fotos_Augmented_1/RivasSelena\n",
      "Copying Image - L00376689_3.jpg in Fotos_Augmented_1/RivasSelena\n",
      "Copying Image - L00380416_1.png in Fotos_Augmented_1/SalazarJohana\n",
      "Copying Image - L00380416_2.png in Fotos_Augmented_1/SalazarJohana\n",
      "Copying Image - L00380416_3.png in Fotos_Augmented_1/SalazarJohana\n",
      "Copying Image - L00392980_1.jpeg in Fotos_Augmented_1/Solano Wilmer\n",
      "Copying Image - L00392980_2.jpeg in Fotos_Augmented_1/Solano Wilmer\n",
      "Copying Image - L00392980_3.jpeg in Fotos_Augmented_1/Solano Wilmer\n",
      "Copying Image - L00080131_1.png in Fotos_Augmented_1/SolórzanoBryan\n",
      "Copying Image - L00080131_2.png in Fotos_Augmented_1/SolórzanoBryan\n",
      "Copying Image - L00080131_3.png in Fotos_Augmented_1/SolórzanoBryan\n"
     ]
    }
   ],
   "source": [
    "for class_name in nombres:\n",
    "    cur_path = folder + \"/\" + class_name\n",
    "    elements = os.listdir(cur_path)\n",
    "    \n",
    "    for element in elements:\n",
    "        print(\"Copying Image - {} in Fotos_Augmented_1/{}\".format(element, class_name))\n",
    "        src = os.path.join(folder + \"/\" + class_name, element) # origen\n",
    "        dst = os.path.join(\"C:\\Fotos_Augmented/\" + class_name, element) \n",
    "        shutil.copy(src, dst)"
   ]
  },
  {
   "cell_type": "markdown",
   "id": "698b7be9",
   "metadata": {},
   "source": [
    "## Data Aumentation "
   ]
  },
  {
   "cell_type": "code",
   "execution_count": 30,
   "id": "4e904255",
   "metadata": {},
   "outputs": [],
   "source": [
    "datagen = ImageDataGenerator(\n",
    "        rotation_range=40,\n",
    "        width_shift_range=0.2,\n",
    "        height_shift_range=0.2,\n",
    "        rescale=1./255,\n",
    "        shear_range=0.2,\n",
    "        zoom_range=0.4,\n",
    "        horizontal_flip=True,\n",
    "        fill_mode='nearest')"
   ]
  },
  {
   "cell_type": "code",
   "execution_count": 31,
   "id": "723c6387",
   "metadata": {},
   "outputs": [
    {
     "ename": "NameError",
     "evalue": "name 'load_img' is not defined",
     "output_type": "error",
     "traceback": [
      "\u001b[1;31m---------------------------------------------------------------------------\u001b[0m",
      "\u001b[1;31mNameError\u001b[0m                                 Traceback (most recent call last)",
      "\u001b[1;32m~\\AppData\\Local\\Temp/ipykernel_14448/3374901484.py\u001b[0m in \u001b[0;36m<module>\u001b[1;34m\u001b[0m\n\u001b[0;32m      1\u001b[0m \u001b[0mos\u001b[0m\u001b[1;33m.\u001b[0m\u001b[0mchdir\u001b[0m\u001b[1;33m(\u001b[0m\u001b[1;34mr\"C:\\Fotos_Augmented/Ariel Chabla\"\u001b[0m\u001b[1;33m)\u001b[0m\u001b[1;33m\u001b[0m\u001b[1;33m\u001b[0m\u001b[0m\n\u001b[0;32m      2\u001b[0m \u001b[1;32mfor\u001b[0m \u001b[0mpath\u001b[0m \u001b[1;32min\u001b[0m \u001b[0mos\u001b[0m\u001b[1;33m.\u001b[0m\u001b[0mlistdir\u001b[0m\u001b[1;33m(\u001b[0m\u001b[1;33m)\u001b[0m\u001b[1;33m:\u001b[0m\u001b[1;33m\u001b[0m\u001b[1;33m\u001b[0m\u001b[0m\n\u001b[1;32m----> 3\u001b[1;33m     \u001b[0mimg\u001b[0m \u001b[1;33m=\u001b[0m \u001b[0mload_img\u001b[0m\u001b[1;33m(\u001b[0m\u001b[1;34mf\"{path}\"\u001b[0m\u001b[1;33m)\u001b[0m\u001b[1;33m\u001b[0m\u001b[1;33m\u001b[0m\u001b[0m\n\u001b[0m\u001b[0;32m      4\u001b[0m     \u001b[0mx\u001b[0m \u001b[1;33m=\u001b[0m \u001b[0mimg_to_array\u001b[0m\u001b[1;33m(\u001b[0m\u001b[0mimg\u001b[0m\u001b[1;33m)\u001b[0m    \u001b[1;31m# this is a Numpy array with shape (3, 150, 150)\u001b[0m\u001b[1;33m\u001b[0m\u001b[1;33m\u001b[0m\u001b[0m\n\u001b[0;32m      5\u001b[0m     \u001b[0mx\u001b[0m \u001b[1;33m=\u001b[0m \u001b[0mx\u001b[0m\u001b[1;33m.\u001b[0m\u001b[0mreshape\u001b[0m\u001b[1;33m(\u001b[0m\u001b[1;33m(\u001b[0m\u001b[1;36m1\u001b[0m\u001b[1;33m,\u001b[0m\u001b[1;33m)\u001b[0m \u001b[1;33m+\u001b[0m \u001b[0mx\u001b[0m\u001b[1;33m.\u001b[0m\u001b[0mshape\u001b[0m\u001b[1;33m)\u001b[0m\u001b[1;33m\u001b[0m\u001b[1;33m\u001b[0m\u001b[0m\n",
      "\u001b[1;31mNameError\u001b[0m: name 'load_img' is not defined"
     ]
    }
   ],
   "source": [
    "os.chdir(r\"C:\\Fotos_Augmented/Ariel Chabla\")\n",
    "for path in os.listdir():\n",
    "    img = load_img(f\"{path}\")\n",
    "    x = img_to_array(img)    # this is a Numpy array with shape (3, 150, 150)\n",
    "    x = x.reshape((1,) + x.shape)\n",
    "    i = 0\n",
    "    for batch in datagen.flow(x, batch_size=1,\n",
    "            save_to_dir=\".\", \n",
    "            save_prefix= 'Ariel_Chabla', \n",
    "            save_format='jpg'):\n",
    "        i += 1\n",
    "        if i == 1:     ## creates 10 image form 1 image \n",
    "            break  "
   ]
  },
  {
   "cell_type": "code",
   "execution_count": null,
   "id": "b897e505",
   "metadata": {},
   "outputs": [],
   "source": []
  }
 ],
 "metadata": {
  "kernelspec": {
   "display_name": "Python 3 (ipykernel)",
   "language": "python",
   "name": "python3"
  },
  "language_info": {
   "codemirror_mode": {
    "name": "ipython",
    "version": 3
   },
   "file_extension": ".py",
   "mimetype": "text/x-python",
   "name": "python",
   "nbconvert_exporter": "python",
   "pygments_lexer": "ipython3",
   "version": "3.9.7"
  }
 },
 "nbformat": 4,
 "nbformat_minor": 5
}
