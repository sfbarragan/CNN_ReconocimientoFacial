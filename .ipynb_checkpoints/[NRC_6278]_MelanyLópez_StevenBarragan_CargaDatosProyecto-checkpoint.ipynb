{
 "cells": [
  {
   "cell_type": "code",
   "execution_count": 1,
   "id": "2a77928d",
   "metadata": {},
   "outputs": [],
   "source": [
    "#Importamos las librerías correspondientes\n",
    "# Importamos la librería ImageDataGenerator,\n",
    "from keras.preprocessing.image import ImageDataGenerator\n",
    "# Importamos la librería  array_to_img, img_to_array, load_img\n",
    "from tensorflow.keras.utils import array_to_img, img_to_array, load_img\n",
    "# Importamos la librería glob\n",
    "import glob\n",
    "# Importamos la librería plt\n",
    "import matplotlib.pyplot as plt\n",
    "# Importamos la librería os\n",
    "import os\n",
    "#Importamos la libreria shutil\n",
    "import shutil\n",
    "#Importamos la libreria pyplot\n",
    "import matplotlib.pyplot as plt\n",
    "#Importamos la libreria random\n",
    "import random\n",
    "from skimage import io"
   ]
  },
  {
   "cell_type": "markdown",
   "id": "943e01ee",
   "metadata": {},
   "source": [
    "## Descripción del dataset\n",
    "\n",
    "El presente dataset incorpora fotos de los estudiantes de sexto semestre de la carrera de Ingenieria en tecnologias de la información, cuyo objetivo es la aplicación de las mismas para realizar un reconocimiento facial identificando el nombre de cada uno de los participantes."
   ]
  },
  {
   "cell_type": "markdown",
   "id": "a67412ff",
   "metadata": {},
   "source": [
    "## Carga del dataset"
   ]
  },
  {
   "cell_type": "code",
   "execution_count": 8,
   "id": "f71681ee",
   "metadata": {},
   "outputs": [],
   "source": [
    "# Definimos la ruta del dataset\n",
    "folder = 'C:\\PROYECTOIA-U3/'"
   ]
  },
  {
   "cell_type": "code",
   "execution_count": 9,
   "id": "6857fe21",
   "metadata": {},
   "outputs": [
    {
     "name": "stdout",
     "output_type": "stream",
     "text": [
      "['Ariel Chabla', 'ArroboMercy', 'BarraganSteven', 'CevallosJoan', 'EnriquezSelena', 'GenesisHeredia', 'GoyesAnthony', 'Hector Cedeño', 'Jhon Zambrano', 'Jordan Espinosa', 'Jorge Borrero', 'JoseRuiz', 'LeonardoBorja', 'LucioCarlos', 'MasacheFernando', 'MelanyLopez', 'MosqueraLucy', 'Nataly Acosta', 'OlallaLuis', 'ParragaMariaJose', 'PauteKevin', 'Raymond Davila', 'RivasSelena', 'SalazarJohana', 'Solano Wilmer', 'SolorzanoBryan']\n"
     ]
    }
   ],
   "source": [
    "#Se observa los nombres de las carpetas\n",
    "nombres = os.listdir(folder)\n",
    "# Imprimimos los nombres\n",
    "print(nombres)"
   ]
  },
  {
   "cell_type": "code",
   "execution_count": 21,
   "id": "f4cda4ac",
   "metadata": {
    "scrolled": true
   },
   "outputs": [
    {
     "name": "stdout",
     "output_type": "stream",
     "text": [
      "Copying Image - L00376418_1.jpg in Fotos_Augmented_1/Ariel Chabla\n",
      "Copying Image - L00376418_2.jpg in Fotos_Augmented_1/Ariel Chabla\n",
      "Copying Image - L00376418_3.jpg in Fotos_Augmented_1/Ariel Chabla\n",
      "Copying Image - L00385770_1.png in Fotos_Augmented_1/ArroboMercy\n",
      "Copying Image - L00385770_2.png in Fotos_Augmented_1/ArroboMercy\n",
      "Copying Image - L00385770_3.png in Fotos_Augmented_1/ArroboMercy\n",
      "Copying Image - L00392978_1.png in Fotos_Augmented_1/BarraganSteven\n",
      "Copying Image - L00392978_2.png in Fotos_Augmented_1/BarraganSteven\n",
      "Copying Image - L00392978_3.png in Fotos_Augmented_1/BarraganSteven\n",
      "Copying Image - L00376416_1.jpg in Fotos_Augmented_1/CevallosJoan\n",
      "Copying Image - L00376416_2.jpg in Fotos_Augmented_1/CevallosJoan\n",
      "Copying Image - L00376416_3.jpg in Fotos_Augmented_1/CevallosJoan\n",
      "Copying Image - L00376481_1.jpg in Fotos_Augmented_1/EnriquezSelena\n",
      "Copying Image - L00376481_2_.jpg in Fotos_Augmented_1/EnriquezSelena\n",
      "Copying Image - L00376481_3.jpg in Fotos_Augmented_1/EnriquezSelena\n",
      "Copying Image - L00392991_1.png in Fotos_Augmented_1/GenesisHeredia\n",
      "Copying Image - L00392991_2.png in Fotos_Augmented_1/GenesisHeredia\n",
      "Copying Image - L00392991_3.png in Fotos_Augmented_1/GenesisHeredia\n",
      "Copying Image - L00393010_1.jpeg in Fotos_Augmented_1/GoyesAnthony\n",
      "Copying Image - L00393010_2.jpeg in Fotos_Augmented_1/GoyesAnthony\n",
      "Copying Image - L00393010_3.jpeg in Fotos_Augmented_1/GoyesAnthony\n",
      "Copying Image - L00392989_1.jpg in Fotos_Augmented_1/Hector Cedeño\n",
      "Copying Image - L00392989_2.jpg in Fotos_Augmented_1/Hector Cedeño\n",
      "Copying Image - L00392989_3.jpg in Fotos_Augmented_1/Hector Cedeño\n",
      "Copying Image - L00392993_Centro.png in Fotos_Augmented_1/Jhon Zambrano\n",
      "Copying Image - L00392993_LD.png in Fotos_Augmented_1/Jhon Zambrano\n",
      "Copying Image - L00392993_LI.png in Fotos_Augmented_1/Jhon Zambrano\n",
      "Copying Image - L00080128_1 Frente.png in Fotos_Augmented_1/Jordan Espinosa\n",
      "Copying Image - L00080128_2 Derecho.png in Fotos_Augmented_1/Jordan Espinosa\n",
      "Copying Image - L00080128_3 Izquierda.png in Fotos_Augmented_1/Jordan Espinosa\n",
      "Copying Image - L00379412_1.jpeg in Fotos_Augmented_1/Jorge Borrero\n",
      "Copying Image - L00379412_2.jpeg in Fotos_Augmented_1/Jorge Borrero\n",
      "Copying Image - L00379412_3.jpeg in Fotos_Augmented_1/Jorge Borrero\n",
      "Copying Image - L00380361_1.jpg in Fotos_Augmented_1/JoseRuiz\n",
      "Copying Image - L00380361_2.jpg in Fotos_Augmented_1/JoseRuiz\n",
      "Copying Image - L00380361_3.jpg in Fotos_Augmented_1/JoseRuiz\n",
      "Copying Image - L00393007_1.png in Fotos_Augmented_1/LeonardoBorja\n",
      "Copying Image - L00393007_2.png in Fotos_Augmented_1/LeonardoBorja\n",
      "Copying Image - L00393007_3.png in Fotos_Augmented_1/LeonardoBorja\n",
      "Copying Image - L00393009_1.png in Fotos_Augmented_1/LucioCarlos\n",
      "Copying Image - L00393009_2.png in Fotos_Augmented_1/LucioCarlos\n",
      "Copying Image - L00393009_3.png in Fotos_Augmented_1/LucioCarlos\n",
      "Copying Image - 20220803_110911.jpg in Fotos_Augmented_1/MasacheFernando\n",
      "Copying Image - 20220803_110958.jpg in Fotos_Augmented_1/MasacheFernando\n",
      "Copying Image - 20220803_111006.jpg in Fotos_Augmented_1/MasacheFernando\n",
      "Copying Image - L00392999_1.jpeg in Fotos_Augmented_1/MelanyLopez\n",
      "Copying Image - L00392999_2.jpeg in Fotos_Augmented_1/MelanyLopez\n",
      "Copying Image - L00392999_3.jpeg in Fotos_Augmented_1/MelanyLopez\n",
      "Copying Image - L00073392_1.jpg in Fotos_Augmented_1/MosqueraLucy\n",
      "Copying Image - L00073392_2.jpg in Fotos_Augmented_1/MosqueraLucy\n",
      "Copying Image - L00073392_3.jpg in Fotos_Augmented_1/MosqueraLucy\n",
      "Copying Image - L00380424_1.jpg in Fotos_Augmented_1/Nataly Acosta\n",
      "Copying Image - L00380424_2.jpg in Fotos_Augmented_1/Nataly Acosta\n",
      "Copying Image - L00380424_3.jpg in Fotos_Augmented_1/Nataly Acosta\n",
      "Copying Image - L00393001_1.jpg in Fotos_Augmented_1/OlallaLuis\n",
      "Copying Image - L00393001_2.jpg in Fotos_Augmented_1/OlallaLuis\n",
      "Copying Image - L00393001_3.jpg in Fotos_Augmented_1/OlallaLuis\n",
      "Copying Image - L00392984_1.png in Fotos_Augmented_1/ParragaMariaJose\n",
      "Copying Image - L00392984_2.png in Fotos_Augmented_1/ParragaMariaJose\n",
      "Copying Image - L00392984_3.png in Fotos_Augmented_1/ParragaMariaJose\n",
      "Copying Image - L00080134_1.jpg in Fotos_Augmented_1/PauteKevin\n",
      "Copying Image - L00080134_2.jpg in Fotos_Augmented_1/PauteKevin\n",
      "Copying Image - L00080134_3.jpg in Fotos_Augmented_1/PauteKevin\n",
      "Copying Image - L00080957_1.jpg in Fotos_Augmented_1/Raymond Davila\n",
      "Copying Image - L00080957_2.jpg in Fotos_Augmented_1/Raymond Davila\n",
      "Copying Image - L00080957_3.jpg in Fotos_Augmented_1/Raymond Davila\n",
      "Copying Image - L00376689_1.jpg in Fotos_Augmented_1/RivasSelena\n",
      "Copying Image - L00376689_2.jpg in Fotos_Augmented_1/RivasSelena\n",
      "Copying Image - L00376689_3.jpg in Fotos_Augmented_1/RivasSelena\n",
      "Copying Image - L00380416_1.png in Fotos_Augmented_1/SalazarJohana\n",
      "Copying Image - L00380416_2.png in Fotos_Augmented_1/SalazarJohana\n",
      "Copying Image - L00380416_3.png in Fotos_Augmented_1/SalazarJohana\n",
      "Copying Image - L00392980_1.jpeg in Fotos_Augmented_1/Solano Wilmer\n",
      "Copying Image - L00392980_2.jpeg in Fotos_Augmented_1/Solano Wilmer\n",
      "Copying Image - L00392980_3.jpeg in Fotos_Augmented_1/Solano Wilmer\n",
      "Copying Image - L00080131_1.png in Fotos_Augmented_1/SolorzanoBryan\n",
      "Copying Image - L00080131_2.png in Fotos_Augmented_1/SolorzanoBryan\n",
      "Copying Image - L00080131_3.png in Fotos_Augmented_1/SolorzanoBryan\n"
     ]
    }
   ],
   "source": [
    "#Creamos un bucle que se ejecutara hasta que se hayan leido todas las clases\n",
    "for class_name in nombres:\n",
    "    # Creamos una ruta especifica con el nombre de la clase\n",
    "    cur_path = folder + \"/\" + class_name\n",
    "    # Obtenemos los elementos de la ruta indicada\n",
    "    elements = os.listdir(cur_path)\n",
    "    #Definimos un bucle que lea todos los elementos\n",
    "    for element in elements:\n",
    "        # Imprimimos la acción realizada\n",
    "        print(\"Copying Image - {} in Fotos_Augmented_1/{}\".format(element, class_name))\n",
    "        # Definimos la ruta de origen de los elementos\n",
    "        src = os.path.join(folder + \"/\" + class_name, element) # origen\n",
    "        # Definimos la ruta de destino de los elementos\n",
    "        dst = os.path.join(\"C:\\Fotos_Augmented/\" + class_name, element) \n",
    "        # Realizamos la copia de las fotos\n",
    "        shutil.copy(src, dst)"
   ]
  },
  {
   "cell_type": "markdown",
   "id": "f98456f7",
   "metadata": {},
   "source": [
    "## Impresión del dataset"
   ]
  },
  {
   "cell_type": "code",
   "execution_count": 24,
   "id": "af02570a",
   "metadata": {},
   "outputs": [
    {
     "ename": "TypeError",
     "evalue": "Image data of dtype <U15 cannot be converted to float",
     "output_type": "error",
     "traceback": [
      "\u001b[1;31m---------------------------------------------------------------------------\u001b[0m",
      "\u001b[1;31mTypeError\u001b[0m                                 Traceback (most recent call last)",
      "\u001b[1;32m~\\AppData\\Local\\Temp/ipykernel_8384/2867514959.py\u001b[0m in \u001b[0;36m<module>\u001b[1;34m\u001b[0m\n\u001b[0;32m     10\u001b[0m         \u001b[0mplt\u001b[0m\u001b[1;33m.\u001b[0m\u001b[0msubplot\u001b[0m\u001b[1;33m(\u001b[0m\u001b[1;36m330\u001b[0m \u001b[1;33m+\u001b[0m \u001b[1;36m1\u001b[0m \u001b[1;33m+\u001b[0m \u001b[1;36m1\u001b[0m\u001b[1;33m)\u001b[0m\u001b[1;33m\u001b[0m\u001b[1;33m\u001b[0m\u001b[0m\n\u001b[0;32m     11\u001b[0m         \u001b[1;31m# plot raw pixel data\u001b[0m\u001b[1;33m\u001b[0m\u001b[1;33m\u001b[0m\u001b[0m\n\u001b[1;32m---> 12\u001b[1;33m         \u001b[0mplt\u001b[0m\u001b[1;33m.\u001b[0m\u001b[0mimshow\u001b[0m\u001b[1;33m(\u001b[0m\u001b[0melement\u001b[0m\u001b[1;33m)\u001b[0m\u001b[1;33m\u001b[0m\u001b[1;33m\u001b[0m\u001b[0m\n\u001b[0m\u001b[0;32m     13\u001b[0m         \u001b[1;31m# show the figure\u001b[0m\u001b[1;33m\u001b[0m\u001b[1;33m\u001b[0m\u001b[0m\n\u001b[0;32m     14\u001b[0m \u001b[1;33m\u001b[0m\u001b[0m\n",
      "\u001b[1;32mC:\\ProgramData\\Anaconda3\\lib\\site-packages\\matplotlib\\pyplot.py\u001b[0m in \u001b[0;36mimshow\u001b[1;34m(X, cmap, norm, aspect, interpolation, alpha, vmin, vmax, origin, extent, filternorm, filterrad, resample, url, data, **kwargs)\u001b[0m\n\u001b[0;32m   2901\u001b[0m         \u001b[0mfilternorm\u001b[0m\u001b[1;33m=\u001b[0m\u001b[1;32mTrue\u001b[0m\u001b[1;33m,\u001b[0m \u001b[0mfilterrad\u001b[0m\u001b[1;33m=\u001b[0m\u001b[1;36m4.0\u001b[0m\u001b[1;33m,\u001b[0m \u001b[0mresample\u001b[0m\u001b[1;33m=\u001b[0m\u001b[1;32mNone\u001b[0m\u001b[1;33m,\u001b[0m \u001b[0murl\u001b[0m\u001b[1;33m=\u001b[0m\u001b[1;32mNone\u001b[0m\u001b[1;33m,\u001b[0m\u001b[1;33m\u001b[0m\u001b[1;33m\u001b[0m\u001b[0m\n\u001b[0;32m   2902\u001b[0m         data=None, **kwargs):\n\u001b[1;32m-> 2903\u001b[1;33m     __ret = gca().imshow(\n\u001b[0m\u001b[0;32m   2904\u001b[0m         \u001b[0mX\u001b[0m\u001b[1;33m,\u001b[0m \u001b[0mcmap\u001b[0m\u001b[1;33m=\u001b[0m\u001b[0mcmap\u001b[0m\u001b[1;33m,\u001b[0m \u001b[0mnorm\u001b[0m\u001b[1;33m=\u001b[0m\u001b[0mnorm\u001b[0m\u001b[1;33m,\u001b[0m \u001b[0maspect\u001b[0m\u001b[1;33m=\u001b[0m\u001b[0maspect\u001b[0m\u001b[1;33m,\u001b[0m\u001b[1;33m\u001b[0m\u001b[1;33m\u001b[0m\u001b[0m\n\u001b[0;32m   2905\u001b[0m         \u001b[0minterpolation\u001b[0m\u001b[1;33m=\u001b[0m\u001b[0minterpolation\u001b[0m\u001b[1;33m,\u001b[0m \u001b[0malpha\u001b[0m\u001b[1;33m=\u001b[0m\u001b[0malpha\u001b[0m\u001b[1;33m,\u001b[0m \u001b[0mvmin\u001b[0m\u001b[1;33m=\u001b[0m\u001b[0mvmin\u001b[0m\u001b[1;33m,\u001b[0m\u001b[1;33m\u001b[0m\u001b[1;33m\u001b[0m\u001b[0m\n",
      "\u001b[1;32mC:\\ProgramData\\Anaconda3\\lib\\site-packages\\matplotlib\\__init__.py\u001b[0m in \u001b[0;36minner\u001b[1;34m(ax, data, *args, **kwargs)\u001b[0m\n\u001b[0;32m   1359\u001b[0m     \u001b[1;32mdef\u001b[0m \u001b[0minner\u001b[0m\u001b[1;33m(\u001b[0m\u001b[0max\u001b[0m\u001b[1;33m,\u001b[0m \u001b[1;33m*\u001b[0m\u001b[0margs\u001b[0m\u001b[1;33m,\u001b[0m \u001b[0mdata\u001b[0m\u001b[1;33m=\u001b[0m\u001b[1;32mNone\u001b[0m\u001b[1;33m,\u001b[0m \u001b[1;33m**\u001b[0m\u001b[0mkwargs\u001b[0m\u001b[1;33m)\u001b[0m\u001b[1;33m:\u001b[0m\u001b[1;33m\u001b[0m\u001b[1;33m\u001b[0m\u001b[0m\n\u001b[0;32m   1360\u001b[0m         \u001b[1;32mif\u001b[0m \u001b[0mdata\u001b[0m \u001b[1;32mis\u001b[0m \u001b[1;32mNone\u001b[0m\u001b[1;33m:\u001b[0m\u001b[1;33m\u001b[0m\u001b[1;33m\u001b[0m\u001b[0m\n\u001b[1;32m-> 1361\u001b[1;33m             \u001b[1;32mreturn\u001b[0m \u001b[0mfunc\u001b[0m\u001b[1;33m(\u001b[0m\u001b[0max\u001b[0m\u001b[1;33m,\u001b[0m \u001b[1;33m*\u001b[0m\u001b[0mmap\u001b[0m\u001b[1;33m(\u001b[0m\u001b[0msanitize_sequence\u001b[0m\u001b[1;33m,\u001b[0m \u001b[0margs\u001b[0m\u001b[1;33m)\u001b[0m\u001b[1;33m,\u001b[0m \u001b[1;33m**\u001b[0m\u001b[0mkwargs\u001b[0m\u001b[1;33m)\u001b[0m\u001b[1;33m\u001b[0m\u001b[1;33m\u001b[0m\u001b[0m\n\u001b[0m\u001b[0;32m   1362\u001b[0m \u001b[1;33m\u001b[0m\u001b[0m\n\u001b[0;32m   1363\u001b[0m         \u001b[0mbound\u001b[0m \u001b[1;33m=\u001b[0m \u001b[0mnew_sig\u001b[0m\u001b[1;33m.\u001b[0m\u001b[0mbind\u001b[0m\u001b[1;33m(\u001b[0m\u001b[0max\u001b[0m\u001b[1;33m,\u001b[0m \u001b[1;33m*\u001b[0m\u001b[0margs\u001b[0m\u001b[1;33m,\u001b[0m \u001b[1;33m**\u001b[0m\u001b[0mkwargs\u001b[0m\u001b[1;33m)\u001b[0m\u001b[1;33m\u001b[0m\u001b[1;33m\u001b[0m\u001b[0m\n",
      "\u001b[1;32mC:\\ProgramData\\Anaconda3\\lib\\site-packages\\matplotlib\\axes\\_axes.py\u001b[0m in \u001b[0;36mimshow\u001b[1;34m(self, X, cmap, norm, aspect, interpolation, alpha, vmin, vmax, origin, extent, filternorm, filterrad, resample, url, **kwargs)\u001b[0m\n\u001b[0;32m   5607\u001b[0m                               resample=resample, **kwargs)\n\u001b[0;32m   5608\u001b[0m \u001b[1;33m\u001b[0m\u001b[0m\n\u001b[1;32m-> 5609\u001b[1;33m         \u001b[0mim\u001b[0m\u001b[1;33m.\u001b[0m\u001b[0mset_data\u001b[0m\u001b[1;33m(\u001b[0m\u001b[0mX\u001b[0m\u001b[1;33m)\u001b[0m\u001b[1;33m\u001b[0m\u001b[1;33m\u001b[0m\u001b[0m\n\u001b[0m\u001b[0;32m   5610\u001b[0m         \u001b[0mim\u001b[0m\u001b[1;33m.\u001b[0m\u001b[0mset_alpha\u001b[0m\u001b[1;33m(\u001b[0m\u001b[0malpha\u001b[0m\u001b[1;33m)\u001b[0m\u001b[1;33m\u001b[0m\u001b[1;33m\u001b[0m\u001b[0m\n\u001b[0;32m   5611\u001b[0m         \u001b[1;32mif\u001b[0m \u001b[0mim\u001b[0m\u001b[1;33m.\u001b[0m\u001b[0mget_clip_path\u001b[0m\u001b[1;33m(\u001b[0m\u001b[1;33m)\u001b[0m \u001b[1;32mis\u001b[0m \u001b[1;32mNone\u001b[0m\u001b[1;33m:\u001b[0m\u001b[1;33m\u001b[0m\u001b[1;33m\u001b[0m\u001b[0m\n",
      "\u001b[1;32mC:\\ProgramData\\Anaconda3\\lib\\site-packages\\matplotlib\\image.py\u001b[0m in \u001b[0;36mset_data\u001b[1;34m(self, A)\u001b[0m\n\u001b[0;32m    698\u001b[0m         if (self._A.dtype != np.uint8 and\n\u001b[0;32m    699\u001b[0m                 not np.can_cast(self._A.dtype, float, \"same_kind\")):\n\u001b[1;32m--> 700\u001b[1;33m             raise TypeError(\"Image data of dtype {} cannot be converted to \"\n\u001b[0m\u001b[0;32m    701\u001b[0m                             \"float\".format(self._A.dtype))\n\u001b[0;32m    702\u001b[0m \u001b[1;33m\u001b[0m\u001b[0m\n",
      "\u001b[1;31mTypeError\u001b[0m: Image data of dtype <U15 cannot be converted to float"
     ]
    },
    {
     "data": {
      "image/png": "[encoded data removed]",
      "text/plain": [
       "<Figure size 432x288 with 1 Axes>"
      ]
     },
     "metadata": {
      "needs_background": "light"
     },
     "output_type": "display_data"
    }
   ],
   "source": [
    "image=io.imread(\"folder + \"/\" + class_name\")/255.0 # imread lee las imagenes con los pixeles codificados como enteros \n",
    "# en el rango 0-255. Por eso la convertimos a flotante y en el rango 0-1\n",
    "\n",
    "print(\"- Dimensiones de la imagen:\")\n",
    "print(image.shape)\n",
    "plt.imshow(image,vmin=0,vmax=1)"
   ]
  },
  {
   "cell_type": "markdown",
   "id": "698b7be9",
   "metadata": {},
   "source": [
    "## Data Aumentation "
   ]
  },
  {
   "cell_type": "code",
   "execution_count": 25,
   "id": "4e904255",
   "metadata": {},
   "outputs": [],
   "source": [
    "# Definimos las caracteristicas de las imagenes\n",
    "datagen = ImageDataGenerator(\n",
    "        rotation_range=40,\n",
    "        width_shift_range=0.2,\n",
    "        height_shift_range=0.2,\n",
    "        rescale=1./255,\n",
    "        shear_range=0.2,\n",
    "        zoom_range=0.4,\n",
    "        horizontal_flip=True,\n",
    "        fill_mode='nearest')"
   ]
  },
  {
   "cell_type": "markdown",
   "id": "04ff5870",
   "metadata": {},
   "source": [
    "## Clase Ariel Chabla"
   ]
  },
  {
   "cell_type": "code",
   "execution_count": 26,
   "id": "723c6387",
   "metadata": {},
   "outputs": [],
   "source": [
    "#Definimos la ruta\n",
    "os.chdir(r\"C:\\Fotos_Augmented/Ariel Chabla/\")\n",
    "\n",
    "#Definimos un bucle que recorra la ruta\n",
    "for path in os.listdir():\n",
    "    # Cargamos la imagen\n",
    "    img = load_img(f\"{path}\")\n",
    "    # Creamos un array Numpy con forma(3, 150, 150)\n",
    "    x = img_to_array(img)\n",
    "    # Realisamos un remodelado de las imagen\n",
    "    x = x.reshape((1,) + x.shape)\n",
    "    # Inicializamos la variable i\n",
    "    i = 0\n",
    "    # Deginimos un bucle que almacenara las nuevas fotos creadas\n",
    "    for batch in datagen.flow(x, batch_size=1,\n",
    "            save_to_dir=\".\", \n",
    "            save_prefix= 'Ariel_Chabla', \n",
    "            save_format='jpg'):\n",
    "        # Aumentamos el contador\n",
    "        i += 1\n",
    "        # Condición de detención del bucle\n",
    "        if i == 1:\n",
    "            #Fin del bucle\n",
    "            break  "
   ]
  },
  {
   "cell_type": "markdown",
   "id": "6955f64f",
   "metadata": {},
   "source": [
    "## Clase Arrobo Mercy"
   ]
  },
  {
   "cell_type": "code",
   "execution_count": 27,
   "id": "05887487",
   "metadata": {},
   "outputs": [],
   "source": [
    "#Definimos la ruta\n",
    "os.chdir(r\"C:\\Fotos_Augmented/ArroboMercy/\")\n",
    "\n",
    "#Definimos un bucle que recorra la ruta\n",
    "for path in os.listdir():\n",
    "    # Cargamos la imagen\n",
    "    img = load_img(f\"{path}\")\n",
    "    # Creamos un array Numpy con forma(3, 150, 150)\n",
    "    x = img_to_array(img)\n",
    "    # Realisamos un remodelado de las imagen\n",
    "    x = x.reshape((1,) + x.shape)\n",
    "    # Inicializamos la variable i\n",
    "    i = 0\n",
    "    # Deginimos un bucle que almacenara las nuevas fotos creadas\n",
    "    for batch in datagen.flow(x, batch_size=1,\n",
    "            save_to_dir=\".\", \n",
    "            save_prefix= 'Arrobo_Mercy', \n",
    "            save_format='jpg'):\n",
    "        # Aumentamos el contador\n",
    "        i += 1\n",
    "        # Condición de detención del bucle\n",
    "        if i == 1:\n",
    "            #Fin del bucle\n",
    "            break  "
   ]
  },
  {
   "cell_type": "markdown",
   "id": "dd751886",
   "metadata": {},
   "source": [
    "## Clase Barragan Steven"
   ]
  },
  {
   "cell_type": "code",
   "execution_count": 28,
   "id": "97d12eae",
   "metadata": {},
   "outputs": [],
   "source": [
    "#Definimos la ruta\n",
    "os.chdir(r\"C:\\Fotos_Augmented/BarraganSteven/\")\n",
    "\n",
    "#Definimos un bucle que recorra la ruta\n",
    "for path in os.listdir():\n",
    "    # Cargamos la imagen\n",
    "    img = load_img(f\"{path}\")\n",
    "    # Creamos un array Numpy con forma(3, 150, 150)\n",
    "    x = img_to_array(img)\n",
    "    # Realisamos un remodelado de las imagen\n",
    "    x = x.reshape((1,) + x.shape)\n",
    "    # Inicializamos la variable i\n",
    "    i = 0\n",
    "    # Deginimos un bucle que almacenara las nuevas fotos creadas\n",
    "    for batch in datagen.flow(x, batch_size=1,\n",
    "            save_to_dir=\".\", \n",
    "            save_prefix= 'Barragan_Steven', \n",
    "            save_format='jpg'):\n",
    "        # Aumentamos el contador\n",
    "        i += 1\n",
    "        # Condición de detención del bucle\n",
    "        if i == 1:\n",
    "            #Fin del bucle\n",
    "            break  "
   ]
  },
  {
   "cell_type": "code",
   "execution_count": null,
   "id": "9af0fad5",
   "metadata": {},
   "outputs": [],
   "source": []
  }
 ],
 "metadata": {
  "kernelspec": {
   "display_name": "Python 3 (ipykernel)",
   "language": "python",
   "name": "python3"
  },
  "language_info": {
   "codemirror_mode": {
    "name": "ipython",
    "version": 3
   },
   "file_extension": ".py",
   "mimetype": "text/x-python",
   "name": "python",
   "nbconvert_exporter": "python",
   "pygments_lexer": "ipython3",
   "version": "3.9.7"
  }
 },
 "nbformat": 4,
 "nbformat_minor": 5
}
