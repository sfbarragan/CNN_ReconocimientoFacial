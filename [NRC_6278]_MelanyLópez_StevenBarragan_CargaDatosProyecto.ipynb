{
 "cells": [
  {
   "cell_type": "code",
   "execution_count": 36,
   "id": "2a77928d",
   "metadata": {},
   "outputs": [],
   "source": [
    "#Importamos las librerías correspondientes\n",
    "# Importamos la librería ImageDataGenerator,\n",
    "from keras.preprocessing.image import ImageDataGenerator\n",
    "# Importamos la librería  array_to_img, img_to_array, load_img\n",
    "from tensorflow.keras.utils import array_to_img, img_to_array, load_img\n",
    "# Importamos la librería glob\n",
    "import glob\n",
    "# Importamos la librería OpenCV\n",
    "import cv2\n",
    "# Importamos la librería plt\n",
    "import matplotlib.pyplot as plt\n",
    "# Importamos la librería os\n",
    "import os\n",
    "#Importamos la libreria shutil\n",
    "import shutil\n"
   ]
  },
  {
   "cell_type": "code",
   "execution_count": 37,
   "id": "f71681ee",
   "metadata": {},
   "outputs": [],
   "source": [
    "folder = 'C:\\PROYECTOIA-U3/'"
   ]
  },
  {
   "cell_type": "code",
   "execution_count": 38,
   "id": "64e4306d",
   "metadata": {},
   "outputs": [],
   "source": [
    "ext = ['png', 'jpg', 'gif','jpeg']    # Add image formats here\n",
    "files = []\n",
    "[files.extend(glob.glob(folder + '*.' + e)) for e in ext]\n",
    "images = [cv2.imread(file) for file in files]"
   ]
  },
  {
   "cell_type": "code",
   "execution_count": 39,
   "id": "6857fe21",
   "metadata": {},
   "outputs": [
    {
     "name": "stdout",
     "output_type": "stream",
     "text": [
      "['Ariel Chabla', 'ArroboMercy', 'BarraganSteven', 'CevallosJoan', 'EnriquezSelena', 'GenesisHeredia', 'GoyesAnthony', 'Hector Cedeño', 'Jhon Zambrano', 'Jordan Espinosa', 'Jorge Borrero', 'JoseRuiz', 'LeonardoBorja', 'LucioCarlos', 'MasacheFernando', 'MelanyLópez', 'MosqueraLucy', 'Nataly Acosta', 'OlallaLuis', 'PauteKevin', 'PárragaMaríaJosé', 'Raymond Dávila', 'RivasSelena', 'SalazarJohana', 'Solano Wilmer', 'SolórzanoBryan']\n"
     ]
    }
   ],
   "source": [
    "#Se observa los nombres de las columasn\n",
    "nombres = os.listdir(folder)\n",
    "print(nombres)"
   ]
  },
  {
   "cell_type": "code",
   "execution_count": 40,
   "id": "f4cda4ac",
   "metadata": {
    "scrolled": true
   },
   "outputs": [
    {
     "name": "stdout",
     "output_type": "stream",
     "text": [
      "Copying Image - L00376418_1.jpg in Fotos_Augmented_1/Ariel Chabla\n",
      "Copying Image - L00376418_2.jpg in Fotos_Augmented_1/Ariel Chabla\n",
      "Copying Image - L00376418_3.jpg in Fotos_Augmented_1/Ariel Chabla\n",
      "Copying Image - L00385770_1.png in Fotos_Augmented_1/ArroboMercy\n",
      "Copying Image - L00385770_2.png in Fotos_Augmented_1/ArroboMercy\n",
      "Copying Image - L00385770_3.png in Fotos_Augmented_1/ArroboMercy\n",
      "Copying Image - L00392978_1.png in Fotos_Augmented_1/BarraganSteven\n",
      "Copying Image - L00392978_2.png in Fotos_Augmented_1/BarraganSteven\n",
      "Copying Image - L00392978_3.png in Fotos_Augmented_1/BarraganSteven\n",
      "Copying Image - L00376416_1.jpg in Fotos_Augmented_1/CevallosJoan\n",
      "Copying Image - L00376416_2.jpg in Fotos_Augmented_1/CevallosJoan\n",
      "Copying Image - L00376416_3.jpg in Fotos_Augmented_1/CevallosJoan\n",
      "Copying Image - L00376481_1.jpg in Fotos_Augmented_1/EnriquezSelena\n",
      "Copying Image - L00376481_2_.jpg in Fotos_Augmented_1/EnriquezSelena\n",
      "Copying Image - L00376481_3.jpg in Fotos_Augmented_1/EnriquezSelena\n",
      "Copying Image - L00392991_1.png in Fotos_Augmented_1/GenesisHeredia\n",
      "Copying Image - L00392991_2.png in Fotos_Augmented_1/GenesisHeredia\n",
      "Copying Image - L00392991_3.png in Fotos_Augmented_1/GenesisHeredia\n",
      "Copying Image - L00393010_1.jpeg in Fotos_Augmented_1/GoyesAnthony\n",
      "Copying Image - L00393010_2.jpeg in Fotos_Augmented_1/GoyesAnthony\n",
      "Copying Image - L00393010_3.jpeg in Fotos_Augmented_1/GoyesAnthony\n",
      "Copying Image - L00392989_1.jpg in Fotos_Augmented_1/Hector Cedeño\n",
      "Copying Image - L00392989_2.jpg in Fotos_Augmented_1/Hector Cedeño\n",
      "Copying Image - L00392989_3.jpg in Fotos_Augmented_1/Hector Cedeño\n",
      "Copying Image - L00392993_Centro.png in Fotos_Augmented_1/Jhon Zambrano\n",
      "Copying Image - L00392993_LD.png in Fotos_Augmented_1/Jhon Zambrano\n",
      "Copying Image - L00392993_LI.png in Fotos_Augmented_1/Jhon Zambrano\n",
      "Copying Image - L00080128_1 Frente.png in Fotos_Augmented_1/Jordan Espinosa\n",
      "Copying Image - L00080128_2 Derecho.png in Fotos_Augmented_1/Jordan Espinosa\n",
      "Copying Image - L00080128_3 Izquierda.png in Fotos_Augmented_1/Jordan Espinosa\n",
      "Copying Image - L00379412_1.jpeg in Fotos_Augmented_1/Jorge Borrero\n",
      "Copying Image - L00379412_2.jpeg in Fotos_Augmented_1/Jorge Borrero\n",
      "Copying Image - L00379412_3.jpeg in Fotos_Augmented_1/Jorge Borrero\n",
      "Copying Image - L00380361_1.jpg in Fotos_Augmented_1/JoseRuiz\n",
      "Copying Image - L00380361_2.jpg in Fotos_Augmented_1/JoseRuiz\n",
      "Copying Image - L00380361_3.jpg in Fotos_Augmented_1/JoseRuiz\n",
      "Copying Image - L00393007_1.png in Fotos_Augmented_1/LeonardoBorja\n",
      "Copying Image - L00393007_2.png in Fotos_Augmented_1/LeonardoBorja\n",
      "Copying Image - L00393007_3.png in Fotos_Augmented_1/LeonardoBorja\n",
      "Copying Image - L00393009_1.png in Fotos_Augmented_1/LucioCarlos\n",
      "Copying Image - L00393009_2.png in Fotos_Augmented_1/LucioCarlos\n",
      "Copying Image - L00393009_3.png in Fotos_Augmented_1/LucioCarlos\n",
      "Copying Image - 20220803_110911.jpg in Fotos_Augmented_1/MasacheFernando\n",
      "Copying Image - 20220803_110958.jpg in Fotos_Augmented_1/MasacheFernando\n",
      "Copying Image - 20220803_111006.jpg in Fotos_Augmented_1/MasacheFernando\n",
      "Copying Image - L00392999_1.jpeg in Fotos_Augmented_1/MelanyLópez\n",
      "Copying Image - L00392999_2.jpeg in Fotos_Augmented_1/MelanyLópez\n",
      "Copying Image - L00392999_3.jpeg in Fotos_Augmented_1/MelanyLópez\n",
      "Copying Image - L00073392_1.jpg in Fotos_Augmented_1/MosqueraLucy\n",
      "Copying Image - L00073392_2.jpg in Fotos_Augmented_1/MosqueraLucy\n",
      "Copying Image - L00073392_3.jpg in Fotos_Augmented_1/MosqueraLucy\n",
      "Copying Image - L00380424_1.jpg in Fotos_Augmented_1/Nataly Acosta\n",
      "Copying Image - L00380424_2.jpg in Fotos_Augmented_1/Nataly Acosta\n",
      "Copying Image - L00380424_3.jpg in Fotos_Augmented_1/Nataly Acosta\n",
      "Copying Image - L00393001_1.jpg in Fotos_Augmented_1/OlallaLuis\n",
      "Copying Image - L00393001_2.jpg in Fotos_Augmented_1/OlallaLuis\n",
      "Copying Image - L00393001_3.jpg in Fotos_Augmented_1/OlallaLuis\n",
      "Copying Image - L00080134_1.jpg in Fotos_Augmented_1/PauteKevin\n",
      "Copying Image - L00080134_2.jpg in Fotos_Augmented_1/PauteKevin\n",
      "Copying Image - L00080134_3.jpg in Fotos_Augmented_1/PauteKevin\n",
      "Copying Image - L00392984_1.png in Fotos_Augmented_1/PárragaMaríaJosé\n",
      "Copying Image - L00392984_2.png in Fotos_Augmented_1/PárragaMaríaJosé\n",
      "Copying Image - L00392984_3.png in Fotos_Augmented_1/PárragaMaríaJosé\n",
      "Copying Image - L00080957_1.jpg in Fotos_Augmented_1/Raymond Dávila\n",
      "Copying Image - L00080957_2.jpg in Fotos_Augmented_1/Raymond Dávila\n",
      "Copying Image - L00080957_3.jpg in Fotos_Augmented_1/Raymond Dávila\n",
      "Copying Image - L00376689_1.jpg in Fotos_Augmented_1/RivasSelena\n",
      "Copying Image - L00376689_2.jpg in Fotos_Augmented_1/RivasSelena\n",
      "Copying Image - L00376689_3.jpg in Fotos_Augmented_1/RivasSelena\n",
      "Copying Image - L00380416_1.png in Fotos_Augmented_1/SalazarJohana\n",
      "Copying Image - L00380416_2.png in Fotos_Augmented_1/SalazarJohana\n",
      "Copying Image - L00380416_3.png in Fotos_Augmented_1/SalazarJohana\n",
      "Copying Image - L00392980_1.jpeg in Fotos_Augmented_1/Solano Wilmer\n",
      "Copying Image - L00392980_2.jpeg in Fotos_Augmented_1/Solano Wilmer\n",
      "Copying Image - L00392980_3.jpeg in Fotos_Augmented_1/Solano Wilmer\n",
      "Copying Image - L00080131_1.png in Fotos_Augmented_1/SolórzanoBryan\n",
      "Copying Image - L00080131_2.png in Fotos_Augmented_1/SolórzanoBryan\n",
      "Copying Image - L00080131_3.png in Fotos_Augmented_1/SolórzanoBryan\n"
     ]
    }
   ],
   "source": [
    "for class_name in nombres:\n",
    "    cur_path = folder + \"/\" + class_name\n",
    "    elements = os.listdir(cur_path)\n",
    "    \n",
    "    for element in elements:\n",
    "        print(\"Copying Image - {} in Fotos_Augmented_1/{}\".format(element, class_name))\n",
    "        src = os.path.join(folder + \"/\" + class_name, element) # origen\n",
    "        dst = os.path.join(\"C:\\Fotos_Augmented/\" + class_name, element) \n",
    "        shutil.copy(src, dst)"
   ]
  },
  {
   "cell_type": "markdown",
   "id": "698b7be9",
   "metadata": {},
   "source": [
    "## Data Aumentation "
   ]
  },
  {
   "cell_type": "code",
   "execution_count": 41,
   "id": "4e904255",
   "metadata": {},
   "outputs": [],
   "source": [
    "datagen = ImageDataGenerator(\n",
    "        rotation_range=40,\n",
    "        width_shift_range=0.2,\n",
    "        height_shift_range=0.2,\n",
    "        rescale=1./255,\n",
    "        shear_range=0.2,\n",
    "        zoom_range=0.4,\n",
    "        horizontal_flip=True,\n",
    "        fill_mode='nearest')"
   ]
  },
  {
   "cell_type": "markdown",
   "id": "5038a908",
   "metadata": {},
   "source": [
    "## Clase Ariel Chabla"
   ]
  },
  {
   "cell_type": "code",
   "execution_count": 42,
   "id": "723c6387",
   "metadata": {},
   "outputs": [],
   "source": [
    "os.chdir(r\"C:\\Fotos_Augmented/Ariel Chabla\")\n",
    "for path in os.listdir():\n",
    "    img = load_img(f\"{path}\")\n",
    "    x = img_to_array(img)    # this is a Numpy array with shape (3, 150, 150)\n",
    "    x = x.reshape((1,) + x.shape)\n",
    "    i = 0\n",
    "    for batch in datagen.flow(x, batch_size=1,\n",
    "            save_to_dir=\".\", \n",
    "            save_prefix= 'Ariel_Chabla', \n",
    "            save_format='jpg'):\n",
    "        i += 1\n",
    "        if i == 1:     ## creates 10 image form 1 image \n",
    "            break  "
   ]
  },
  {
   "cell_type": "markdown",
   "id": "25abc535",
   "metadata": {},
   "source": [
    "## Clase Arrobo Mercy"
   ]
  },
  {
   "cell_type": "code",
   "execution_count": 45,
   "id": "0ddf854b",
   "metadata": {},
   "outputs": [],
   "source": [
    "os.chdir(r\"C:\\Fotos_Augmented/ArroboMercy\")\n",
    "for path in os.listdir():\n",
    "    img = load_img(f\"{path}\")\n",
    "    x = img_to_array(img)    # this is a Numpy array with shape (3, 150, 150)\n",
    "    x = x.reshape((1,) + x.shape)\n",
    "    i = 0\n",
    "    for batch in datagen.flow(x, batch_size=1,\n",
    "            save_to_dir=\".\", \n",
    "            save_prefix= 'Arrobo_Mercy', \n",
    "            save_format='jpg'):\n",
    "        i += 1\n",
    "        if i == 1:     ## creates 10 image form 1 image \n",
    "            break  "
   ]
  },
  {
   "cell_type": "markdown",
   "id": "08063638",
   "metadata": {},
   "source": [
    "## Clase Barragan Steven"
   ]
  },
  {
   "cell_type": "code",
   "execution_count": 46,
   "id": "bb831b7a",
   "metadata": {},
   "outputs": [],
   "source": [
    "os.chdir(r\"C:\\Fotos_Augmented/BarraganSteven\")\n",
    "for path in os.listdir():\n",
    "    img = load_img(f\"{path}\")\n",
    "    x = img_to_array(img)    # this is a Numpy array with shape (3, 150, 150)\n",
    "    x = x.reshape((1,) + x.shape)\n",
    "    i = 0\n",
    "    for batch in datagen.flow(x, batch_size=1,\n",
    "            save_to_dir=\".\", \n",
    "            save_prefix= 'Barragan_Steven', \n",
    "            save_format='jpg'):\n",
    "        i += 1\n",
    "        if i == 1:     ## creates 10 image form 1 image \n",
    "            break  "
   ]
  },
  {
   "cell_type": "code",
   "execution_count": null,
   "id": "8b576abc",
   "metadata": {},
   "outputs": [],
   "source": []
  }
 ],
 "metadata": {
  "kernelspec": {
   "display_name": "Python 3 (ipykernel)",
   "language": "python",
   "name": "python3"
  },
  "language_info": {
   "codemirror_mode": {
    "name": "ipython",
    "version": 3
   },
   "file_extension": ".py",
   "mimetype": "text/x-python",
   "name": "python",
   "nbconvert_exporter": "python",
   "pygments_lexer": "ipython3",
   "version": "3.9.7"
  }
 },
 "nbformat": 4,
 "nbformat_minor": 5
}
