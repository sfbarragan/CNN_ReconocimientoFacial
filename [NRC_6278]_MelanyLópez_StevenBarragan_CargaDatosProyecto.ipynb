{
 "cells": [
  {
   "cell_type": "code",
   "execution_count": 16,
   "id": "2a77928d",
   "metadata": {},
   "outputs": [],
   "source": [
    "#Importamos las librerías correspondientes\n",
    "# Importamos la librería ImageDataGenerator, array_to_img, img_to_array, load_img\n",
    "from keras.preprocessing.image import ImageDataGenerator\n",
    "# Importamos la librería glob\n",
    "import glob\n",
    "# Importamos la librería OpenCV\n",
    "import cv2\n",
    "# Importamos la librería plt\n",
    "import matplotlib.pyplot as plt\n",
    "# Importamos la librería os\n",
    "import os"
   ]
  },
  {
   "cell_type": "code",
   "execution_count": 17,
   "id": "f71681ee",
   "metadata": {},
   "outputs": [],
   "source": [
    "folder = 'C:\\PROYECTOIA-U3/'"
   ]
  },
  {
   "cell_type": "code",
   "execution_count": 18,
   "id": "64e4306d",
   "metadata": {},
   "outputs": [],
   "source": [
    "ext = ['png', 'jpg', 'gif','jpeg']    # Add image formats here\n",
    "files = []\n",
    "[files.extend(glob.glob(folder + '*.' + e)) for e in ext]\n",
    "images = [cv2.imread(file) for file in files]"
   ]
  },
  {
   "cell_type": "code",
   "execution_count": 23,
   "id": "6857fe21",
   "metadata": {},
   "outputs": [
    {
     "name": "stdout",
     "output_type": "stream",
     "text": [
      "['L00073392_1.jpg', 'L00073392_2.jpg', 'L00073392_3.jpg', 'L00080128_1.png', 'L00080128_2.png', 'L00080128_3.png', 'L00080131_1.png', 'L00080131_2.png', 'L00080131_3.png', 'L00080134_1.jpg', 'L00080134_2.jpg', 'L00080134_3.jpg', 'L00080957_1.jpg', 'L00080957_2.jpg', 'L00080957_3.jpg', 'L00376416_1.jpg', 'L00376416_2.jpg', 'L00376416_3.jpg', 'L00376418_1.jpg', 'L00376418_2.jpg', 'L00376418_3.jpg', 'L00376481_1.jpg', 'L00376481_2_.jpg', 'L00376481_3.jpg', 'L00376689_1.jpg', 'L00376689_2.jpg', 'L00376689_3.jpg', 'L00379412_1.jpeg', 'L00379412_2.jpeg', 'L00379412_3.jpeg', 'L00380361_1.jpg', 'L00380361_2.jpg', 'L00380361_3.jpg', 'L00380416_1.png', 'L00380416_2.png', 'L00380416_3.png', 'L00380424_1.jpg', 'L00380424_2.jpg', 'L00380424_3.jpg', 'L00385770_1.png', 'L00385770_2.png', 'L00385770_3.png', 'L00392978_1.png', 'L00392978_2.png', 'L00392978_3.png', 'L00392980_1.jpeg', 'L00392980_2.jpeg', 'L00392980_3.jpeg', 'L00392984_1.png', 'L00392984_2.png', 'L00392984_3.png', 'L00392989_1.jpg', 'L00392989_2.jpg', 'L00392989_3.jpg', 'L00392991_1.png', 'L00392991_2.png', 'L00392991_3.png', 'L00392993_1.png', 'L00392993_2.png', 'L00392993_3.png', 'L00392999_1.jpeg', 'L00392999_2.jpeg', 'L00392999_3.jpeg', 'L00393001_1.jpg', 'L00393001_2.jpg', 'L00393001_3.jpg', 'L00393007_1.png', 'L00393007_2.png', 'L00393007_3.png', 'L00393009_1.png', 'L00393009_2.png', 'L00393009_3.png', 'L00393010_1.jpeg', 'L00393010_2.jpeg', 'L00393010_3.jpeg']\n"
     ]
    }
   ],
   "source": [
    "#Se observa los nombres de las columasn\n",
    "nombres = os.listdir(folder)\n",
    "print(nombres)"
   ]
  },
  {
   "cell_type": "code",
   "execution_count": 24,
   "id": "f4cda4ac",
   "metadata": {
    "scrolled": true
   },
   "outputs": [
    {
     "name": "stdout",
     "output_type": "stream",
     "text": [
      "L00073392_1.jpg\n",
      "L00073392_2.jpg\n",
      "L00073392_3.jpg\n",
      "L00080128_1.png\n",
      "L00080128_2.png\n",
      "L00080128_3.png\n",
      "L00080131_1.png\n",
      "L00080131_2.png\n",
      "L00080131_3.png\n",
      "L00080134_1.jpg\n",
      "L00080134_2.jpg\n",
      "L00080134_3.jpg\n",
      "L00080957_1.jpg\n",
      "L00080957_2.jpg\n",
      "L00080957_3.jpg\n",
      "L00376416_1.jpg\n",
      "L00376416_2.jpg\n",
      "L00376416_3.jpg\n",
      "L00376418_1.jpg\n",
      "L00376418_2.jpg\n",
      "L00376418_3.jpg\n",
      "L00376481_1.jpg\n",
      "L00376481_2_.jpg\n",
      "L00376481_3.jpg\n",
      "L00376689_1.jpg\n",
      "L00376689_2.jpg\n",
      "L00376689_3.jpg\n",
      "L00379412_1.jpeg\n",
      "L00379412_2.jpeg\n",
      "L00379412_3.jpeg\n",
      "L00380361_1.jpg\n",
      "L00380361_2.jpg\n",
      "L00380361_3.jpg\n",
      "L00380416_1.png\n",
      "L00380416_2.png\n",
      "L00380416_3.png\n",
      "L00380424_1.jpg\n",
      "L00380424_2.jpg\n",
      "L00380424_3.jpg\n",
      "L00385770_1.png\n",
      "L00385770_2.png\n",
      "L00385770_3.png\n",
      "L00392978_1.png\n",
      "L00392978_2.png\n",
      "L00392978_3.png\n",
      "L00392980_1.jpeg\n",
      "L00392980_2.jpeg\n",
      "L00392980_3.jpeg\n",
      "L00392984_1.png\n",
      "L00392984_2.png\n",
      "L00392984_3.png\n",
      "L00392989_1.jpg\n",
      "L00392989_2.jpg\n",
      "L00392989_3.jpg\n",
      "L00392991_1.png\n",
      "L00392991_2.png\n",
      "L00392991_3.png\n",
      "L00392993_1.png\n",
      "L00392993_2.png\n",
      "L00392993_3.png\n",
      "L00392999_1.jpeg\n",
      "L00392999_2.jpeg\n",
      "L00392999_3.jpeg\n",
      "L00393001_1.jpg\n",
      "L00393001_2.jpg\n",
      "L00393001_3.jpg\n",
      "L00393007_1.png\n",
      "L00393007_2.png\n",
      "L00393007_3.png\n",
      "L00393009_1.png\n",
      "L00393009_2.png\n",
      "L00393009_3.png\n",
      "L00393010_1.jpeg\n",
      "L00393010_2.jpeg\n",
      "L00393010_3.jpeg\n"
     ]
    }
   ],
   "source": [
    "for nombre in nombres:\n",
    "    print(nombre)"
   ]
  },
  {
   "cell_type": "markdown",
   "id": "698b7be9",
   "metadata": {},
   "source": [
    "## Data Aumentation "
   ]
  },
  {
   "cell_type": "code",
   "execution_count": 21,
   "id": "4e904255",
   "metadata": {},
   "outputs": [],
   "source": [
    "datagen = ImageDataGenerator(\n",
    "        rotation_range=40,\n",
    "        width_shift_range=0.2,\n",
    "        height_shift_range=0.2,\n",
    "        rescale=1./255,\n",
    "        shear_range=0.2,\n",
    "        zoom_range=0.4,\n",
    "        horizontal_flip=True,\n",
    "        fill_mode='nearest')"
   ]
  },
  {
   "cell_type": "code",
   "execution_count": null,
   "id": "723c6387",
   "metadata": {},
   "outputs": [],
   "source": []
  }
 ],
 "metadata": {
  "kernelspec": {
   "display_name": "Python 3 (ipykernel)",
   "language": "python",
   "name": "python3"
  },
  "language_info": {
   "codemirror_mode": {
    "name": "ipython",
    "version": 3
   },
   "file_extension": ".py",
   "mimetype": "text/x-python",
   "name": "python",
   "nbconvert_exporter": "python",
   "pygments_lexer": "ipython3",
   "version": "3.9.12"
  }
 },
 "nbformat": 4,
 "nbformat_minor": 5
}
